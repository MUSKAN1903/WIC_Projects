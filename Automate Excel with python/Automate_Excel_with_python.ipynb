{
  "nbformat": 4,
  "nbformat_minor": 0,
  "metadata": {
    "colab": {
      "name": "Automate Excel with python",
      "provenance": []
    },
    "kernelspec": {
      "name": "python3",
      "display_name": "Python 3"
    },
    "language_info": {
      "name": "python"
    }
  },
  "cells": [
    {
      "cell_type": "markdown",
      "metadata": {
        "id": "7rJa1YdZEAi_"
      },
      "source": [
        "# **AUTOMATE EXCEL WITH PYTHON**\n",
        "\n",
        "> Muskan Singh 19csu181\n",
        "\n",
        "\n",
        "\n"
      ]
    },
    {
      "cell_type": "markdown",
      "metadata": {
        "id": "ByYA81foAKyU"
      },
      "source": [
        "**GETTING VALUES FROM DIFFERENT WORKBOOKS**\n"
      ]
    },
    {
      "cell_type": "code",
      "metadata": {
        "colab": {
          "base_uri": "https://localhost:8080/"
        },
        "id": "vfW011Wi_STV",
        "outputId": "5e602117-2ef4-44f4-f9c3-5d3891f9f968"
      },
      "source": [
        "#pip3 install openpyxl\n",
        "import openpyxl\n",
        "\n",
        "#specify the files location (or path)\n",
        "excel_files = ['/content/SampleData.xlsx','/content/SampleData2.xlsx']\n",
        "\n",
        "#create an empty list to append values later on\n",
        "values = []\n",
        "\n",
        "#loop through the files in the \"excel_files\" list\n",
        "for file in excel_files:\n",
        "    workbook = openpyxl.load_workbook(file)\n",
        "    #specify worksheet to select\n",
        "    worksheet = workbook['SalesOrders']\n",
        "    #locate cell and get its value\n",
        "    cell_value = worksheet['G11'].value\n",
        "    #append value to \"values\" list\n",
        "    values.append(cell_value)\n",
        "\n",
        "    #print totals\n",
        "    print(cell_value)"
      ],
      "execution_count": 5,
      "outputs": [
        {
          "output_type": "stream",
          "name": "stdout",
          "text": [
            "63.68\n",
            "83.58\n"
          ]
        }
      ]
    },
    {
      "cell_type": "markdown",
      "metadata": {
        "id": "_JNkb_2VBem0"
      },
      "source": [
        "**MERGE WORKBOOKS**"
      ]
    },
    {
      "cell_type": "code",
      "metadata": {
        "id": "P7xBh0qBBdpy"
      },
      "source": [
        "#pip3 install pandas\n",
        "import pandas as pd\n",
        "\n",
        "#specify the files location (or path)\n",
        "excel_files = ['/content/SampleData.xlsx','/content/SampleData2.xlsx']\n",
        "\n",
        "#create a blank dataframe\n",
        "merge = pd.DataFrame()\n",
        "\n",
        "#loop through every file in the list\n",
        "for file in excel_files:\n",
        "  #read files into a dataframe and skip the first row (header)\n",
        "  df = pd.read_excel(file, skiprows = 1)\n",
        "  #append results to merge\n",
        "  merge = merge.append(df, ignore_index = True)\n",
        "\n",
        "#create final workbook with merged results\n",
        "merge.to_excel('Merged_Files.xlsx')"
      ],
      "execution_count": 7,
      "outputs": []
    },
    {
      "cell_type": "markdown",
      "metadata": {
        "id": "2pn72xbcCqlO"
      },
      "source": [
        " **Search and filter data in workbooks**"
      ]
    },
    {
      "cell_type": "code",
      "metadata": {
        "colab": {
          "base_uri": "https://localhost:8080/"
        },
        "id": "XqXJplSIC-sM",
        "outputId": "c7192ca6-bc0a-4318-89bc-f65baadc6d14"
      },
      "source": [
        "#pip3 install pandas\n",
        "import pandas as pd\n",
        "#pip3 install numpy\n",
        "import numpy as np\n",
        "\n",
        "#specify the files location (or path)\n",
        "files = ['/content/SampleData.xlsx','/content/SampleData2.xlsx']\n",
        "\n",
        "#loop through the \"files\" list\n",
        "for file in files:\n",
        "    #read each file in a dataframe\n",
        "    df = pd.read_excel(file)\n",
        "    #locate the \"Item\" column and return the \"Rep\" where the condition matches \"Pencil\"\n",
        "    pencil = df['Rep'].where(df['Item'] == 'Pencil').dropna()\n",
        "    #print file name\n",
        "    print(file)\n",
        "    #print filtered results\n",
        "    print(pencil)"
      ],
      "execution_count": 8,
      "outputs": [
        {
          "output_type": "stream",
          "name": "stdout",
          "text": [
            "/content/SampleData.xlsx\n",
            "1        Jones\n",
            "3      Jardine\n",
            "5      Sorvino\n",
            "7      Andrews\n",
            "8      Jardine\n",
            "9     Thompson\n",
            "11      Morgan\n",
            "14       Jones\n",
            "21       Smith\n",
            "28     Andrews\n",
            "30        Gill\n",
            "37        Gill\n",
            "40     Andrews\n",
            "Name: Rep, dtype: object\n",
            "/content/SampleData2.xlsx\n",
            "1        Jones\n",
            "3      Jardine\n",
            "5      Sorvino\n",
            "7      Andrews\n",
            "8      Jardine\n",
            "9     Thompson\n",
            "11      Morgan\n",
            "14       Jones\n",
            "21       Smith\n",
            "28     Andrews\n",
            "30        Gill\n",
            "37        Gill\n",
            "40     Andrews\n",
            "Name: Rep, dtype: object\n"
          ]
        }
      ]
    },
    {
      "cell_type": "markdown",
      "metadata": {
        "id": "xsrAahhiDVwt"
      },
      "source": [
        "**Apply formulas across workbooks**"
      ]
    },
    {
      "cell_type": "code",
      "metadata": {
        "id": "C4E7QXSxDSdE"
      },
      "source": [
        "#pip3 install openpyxl\n",
        "import openpyxl\n",
        "\n",
        "#specify the files location (or path)\n",
        "excel_files = ['/content/SampleData.xlsx','/content/SampleData2.xlsx']\n",
        "\n",
        "#loop through the files in the \"excel_files\" list\n",
        "for file in excel_files:\n",
        "    wb = openpyxl.load_workbook(file)\n",
        "    #locate worksheet\n",
        "    worksheet = wb[\"SalesOrders\"]\n",
        "    #compute average in G46\n",
        "    worksheet['G46'] = '=AVERAGE(G3:G45)'\n",
        "    #save the file\n",
        "    wb.save(file)\n"
      ],
      "execution_count": 10,
      "outputs": []
    }
  ]
}