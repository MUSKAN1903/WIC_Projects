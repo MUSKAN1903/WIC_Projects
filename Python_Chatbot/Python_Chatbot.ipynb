{
 "cells": [
  {
   "cell_type": "markdown",
   "metadata": {},
   "source": [
    "# GUI CHATBOT USING PYTHON TKINTER "
   ]
  },
  {
   "cell_type": "code",
   "execution_count": 39,
   "metadata": {},
   "outputs": [
    {
     "name": "stdout",
     "output_type": "stream",
     "text": [
      "Requirement already satisfied: pyimage in c:\\users\\dell\\anaconda3\\lib\\site-packages (0.1.1)\n",
      "Requirement already satisfied: scikit-image in c:\\users\\dell\\anaconda3\\lib\\site-packages (from pyimage) (0.16.2)\n",
      "Requirement already satisfied: numpy in c:\\users\\dell\\anaconda3\\lib\\site-packages (from pyimage) (1.18.5)\n",
      "Requirement already satisfied: matplotlib in c:\\users\\dell\\anaconda3\\lib\\site-packages (from pyimage) (3.2.2)\n",
      "Requirement already satisfied: scipy>=0.19.0 in c:\\users\\dell\\anaconda3\\lib\\site-packages (from scikit-image->pyimage) (1.5.0)\n",
      "Requirement already satisfied: networkx>=2.0 in c:\\users\\dell\\anaconda3\\lib\\site-packages (from scikit-image->pyimage) (2.4)\n",
      "Requirement already satisfied: pillow>=4.3.0 in c:\\users\\dell\\anaconda3\\lib\\site-packages (from scikit-image->pyimage) (7.2.0)\n",
      "Requirement already satisfied: PyWavelets>=0.4.0 in c:\\users\\dell\\anaconda3\\lib\\site-packages (from scikit-image->pyimage) (1.1.1)\n",
      "Requirement already satisfied: imageio>=2.3.0 in c:\\users\\dell\\anaconda3\\lib\\site-packages (from scikit-image->pyimage) (2.9.0)\n",
      "Requirement already satisfied: cycler>=0.10 in c:\\users\\dell\\anaconda3\\lib\\site-packages (from matplotlib->pyimage) (0.10.0)\n",
      "Requirement already satisfied: kiwisolver>=1.0.1 in c:\\users\\dell\\anaconda3\\lib\\site-packages (from matplotlib->pyimage) (1.2.0)\n",
      "Requirement already satisfied: python-dateutil>=2.1 in c:\\users\\dell\\anaconda3\\lib\\site-packages (from matplotlib->pyimage) (2.8.1)\n",
      "Requirement already satisfied: pyparsing!=2.0.4,!=2.1.2,!=2.1.6,>=2.0.1 in c:\\users\\dell\\anaconda3\\lib\\site-packages (from matplotlib->pyimage) (2.4.7)\n",
      "Requirement already satisfied: decorator>=4.3.0 in c:\\users\\dell\\anaconda3\\lib\\site-packages (from networkx>=2.0->scikit-image->pyimage) (4.4.2)\n",
      "Requirement already satisfied: six in c:\\users\\dell\\anaconda3\\lib\\site-packages (from cycler>=0.10->matplotlib->pyimage) (1.15.0)\n"
     ]
    }
   ],
   "source": [
    "from tkinter import*\n",
    "import tkinter as tk\n",
    "from tkinter import ttk\n",
    "from PIL import Image,ImageTk\n",
    "!pip install pyimage"
   ]
  },
  {
   "cell_type": "code",
   "execution_count": 100,
   "metadata": {},
   "outputs": [],
   "source": [
    "class Chatbot:\n",
    "    def __init__(self,root):\n",
    "        self.root=root\n",
    "        self.root.title(\"Chatbot\")\n",
    "        self.root.geometry(\"730x620+0+0\")\n",
    "        self.root.bind('<Return>',self.enter_func)\n",
    "        \n",
    "        main_frame=Frame(self.root,bd=4,bg= \"powder blue\",width=610)\n",
    "        main_frame.pack()\n",
    "        \n",
    "        img_chat=Image.open(\"/Users/DELL/OneDrive/Desktop/PADHAI/chatbot-2.jpg\")\n",
    "        img_chat=img_chat.resize((200,70),Image.ANTIALIAS)\n",
    "        self.photoimg=ImageTk.PhotoImage(img_chat)\n",
    "        \n",
    "        Title_label=Label(main_frame,bd=3,relief=RAISED,anchor='nw',width=730,compound=LEFT,image=self.photoimg,text='CHAT WITH ME',font=('arial',30,'bold'),fg='green',bg='white')\n",
    "        Title_label.pack(side=TOP)\n",
    "        \n",
    "        self.scroll_y=ttk.Scrollbar(main_frame,orient=VERTICAL)\n",
    "        self.text=Text(main_frame,width=65,height=20,bd=5,relief=RAISED,font=('arial',14),yscrollcommand=self.scroll_y.set)\n",
    "        self.scroll_y.pack(side=RIGHT,fill=Y)\n",
    "        self.text.pack()\n",
    "        \n",
    "        \n",
    "        btn_frame=Frame(self.root,bd=4,bg= \"yellow\",width=730)\n",
    "        btn_frame.pack()\n",
    "        \n",
    "        label_1=Label(btn_frame,text=\"WHAT YOU WANT TO TALK ABOUT?\",font=('arial',15,'bold'),fg='green',bg='white')\n",
    "        label_1.grid(row=0,column=0,padx=5,sticky=W)\n",
    "        \n",
    "        self.entry=StringVar()\n",
    "        self.entry1=ttk.Entry(btn_frame,textvariable=self.entry,width=40,font=('times new roman',16,'bold'))\n",
    "        self.entry1.grid(row=0,column=1,padx=5,sticky=W)\n",
    "        \n",
    "        self.send=Button(btn_frame,text=\"SEND>>\",command=self.send,font=('arial',15,'bold'),width=8,bg='green')\n",
    "        self.send.grid(row=0,column=2,padx=5,sticky=W)\n",
    "        \n",
    "        self.clare=Button(btn_frame,text=\"CLEAR DATA\",command=self.clear,font=('arial',15,'bold'),width=12,bg='red',fg='white')\n",
    "        self.clare.grid(row=1,column=0,padx=5,sticky=W)\n",
    "        \n",
    "        self.msg=''\n",
    "        self.label_1=Label(btn_frame,text=self.msg,font=('arial',14,'bold'),fg='red',bg='white')\n",
    "        self.label_1.grid(row=1,column=1,padx=5,sticky=W)\n",
    "    \n",
    "    \n",
    "    def enter_func(self,event):\n",
    "        self.send.invoke()\n",
    "        self.entry.set('')\n",
    "        \n",
    "    def clear(self):\n",
    "        self.text.delete('1.0',END)\n",
    "        self.entry.set('')\n",
    "        \n",
    "    \n",
    "    def send(self):\n",
    "        send='\\t\\t\\t'+'You: '+self.entry.get()\n",
    "        self.text.insert(END,'\\n'+send)\n",
    "        \n",
    "        if(self.entry.get()==''):\n",
    "            self.msg='Please enter some input'\n",
    "            self.label_1.config(text=self.msg,fg='red')\n",
    "        \n",
    "        else:\n",
    "            self.msg=''\n",
    "            self.label_1.config(text=self.msg,fg='red')\n",
    "            \n",
    "        if (self.entry.get()=='hello'):\n",
    "            self.text.insert(END,'\\n\\n'+'Bot:Hi')\n",
    "        \n",
    "        elif (self.entry.get()=='how are you'):\n",
    "            self.text.insert(END,'\\n\\n'+'Bot:I am Fine')\n",
    "        \n",
    "        elif (self.entry.get()=='who made you'):\n",
    "            self.text.insert(END,'\\n\\n'+'Bot:muskan made me')\n",
    "            \n",
    "        elif (self.entry.get()=='what is a chatbot'):\n",
    "            self.text.insert(END,'\\n\\n'+'Bot:A chatbot is a computer program that simulates human conversation, either via voice or text communication.')\n",
    "        \n",
    "        elif (self.entry.get()=='what is tkinter used for'):\n",
    "            self.text.insert(END,'\\n\\n'+'Bot:This framework provides Python users with a simple way to create GUI elements using the widgets found in the Tk toolkit. ')\n",
    "        \n",
    "        elif (self.entry.get()=='tell me some other modules for GUI in python'):\n",
    "            self.text.insert(END,'\\n\\n'+'Bot:PyQt5,Tkinter,Kivy,wxPython.')\n",
    "        \n",
    "        elif (self.entry.get()=='name the first chat bot'):\n",
    "            self.text.insert(END,'\\n\\n'+'Bot:ELIZA is the first ever chatbot.')\n",
    "        \n",
    "        elif (self.entry.get()=='what are some popular chatbots'):\n",
    "            self.text.insert(END,'\\n\\n'+'Bot: Some of the most popular chatbots are Siri, Alexa, and Cortana')\n",
    "        \n",
    "        else :\n",
    "            self.text.insert(END,'\\n\\n'+\"Bot:Sorry i didn't get it\")\n",
    "    \n",
    "        \n",
    "\n",
    "    \n",
    "        "
   ]
  },
  {
   "cell_type": "code",
   "execution_count": null,
   "metadata": {
    "scrolled": true
   },
   "outputs": [],
   "source": [
    "if __name__ == '__main__':\n",
    "    root=tk.Toplevel()\n",
    "    obj=Chatbot(root)\n",
    "    root.mainloop()"
   ]
  },
  {
   "cell_type": "code",
   "execution_count": null,
   "metadata": {},
   "outputs": [],
   "source": []
  },
  {
   "cell_type": "code",
   "execution_count": null,
   "metadata": {},
   "outputs": [],
   "source": []
  },
  {
   "cell_type": "code",
   "execution_count": null,
   "metadata": {},
   "outputs": [],
   "source": []
  }
 ],
 "metadata": {
  "kernelspec": {
   "display_name": "Python 3",
   "language": "python",
   "name": "python3"
  },
  "language_info": {
   "codemirror_mode": {
    "name": "ipython",
    "version": 3
   },
   "file_extension": ".py",
   "mimetype": "text/x-python",
   "name": "python",
   "nbconvert_exporter": "python",
   "pygments_lexer": "ipython3",
   "version": "3.8.3"
  }
 },
 "nbformat": 4,
 "nbformat_minor": 4
}
