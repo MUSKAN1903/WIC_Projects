{
 "cells": [
  {
   "cell_type": "markdown",
   "metadata": {},
   "source": [
    "**GOOGLE MAPS AUTOMATION**\n",
    "\n",
    "- Muskan Singh 19csu181"
   ]
  },
  {
   "cell_type": "code",
   "execution_count": 2,
   "metadata": {},
   "outputs": [
    {
     "name": "stdout",
     "output_type": "stream",
     "text": [
      "Collecting selenium\n",
      "  Using cached selenium-4.0.0-py3-none-any.whl (954 kB)\n",
      "Collecting trio-websocket~=0.9\n",
      "  Using cached trio_websocket-0.9.2-py3-none-any.whl (16 kB)\n",
      "Collecting urllib3[secure]~=1.26\n",
      "  Using cached urllib3-1.26.7-py2.py3-none-any.whl (138 kB)\n",
      "Collecting trio~=0.17\n",
      "  Using cached trio-0.19.0-py3-none-any.whl (356 kB)\n",
      "Collecting async-generator>=1.10\n",
      "  Using cached async_generator-1.10-py3-none-any.whl (18 kB)\n",
      "Collecting wsproto>=0.14\n",
      "  Using cached wsproto-1.0.0-py3-none-any.whl (24 kB)\n",
      "Requirement already satisfied: pyOpenSSL>=0.14; extra == \"secure\" in c:\\users\\dell\\anaconda3\\lib\\site-packages (from urllib3[secure]~=1.26->selenium) (19.1.0)\n",
      "Requirement already satisfied: cryptography>=1.3.4; extra == \"secure\" in c:\\users\\dell\\anaconda3\\lib\\site-packages (from urllib3[secure]~=1.26->selenium) (2.9.2)\n",
      "Requirement already satisfied: idna>=2.0.0; extra == \"secure\" in c:\\users\\dell\\anaconda3\\lib\\site-packages (from urllib3[secure]~=1.26->selenium) (2.10)\n",
      "Requirement already satisfied: certifi; extra == \"secure\" in c:\\users\\dell\\anaconda3\\lib\\site-packages (from urllib3[secure]~=1.26->selenium) (2020.6.20)\n",
      "Collecting outcome\n",
      "  Using cached outcome-1.1.0-py2.py3-none-any.whl (9.7 kB)\n",
      "Requirement already satisfied: sortedcontainers in c:\\users\\dell\\anaconda3\\lib\\site-packages (from trio~=0.17->selenium) (2.2.2)\n",
      "Requirement already satisfied: cffi>=1.14; os_name == \"nt\" and implementation_name != \"pypy\" in c:\\users\\dell\\anaconda3\\lib\\site-packages (from trio~=0.17->selenium) (1.14.0)\n",
      "Requirement already satisfied: attrs>=19.2.0 in c:\\users\\dell\\anaconda3\\lib\\site-packages (from trio~=0.17->selenium) (19.3.0)\n",
      "Collecting sniffio\n",
      "  Using cached sniffio-1.2.0-py3-none-any.whl (10 kB)\n",
      "Collecting h11<1,>=0.9.0\n",
      "  Using cached h11-0.12.0-py3-none-any.whl (54 kB)\n",
      "Requirement already satisfied: six>=1.5.2 in c:\\users\\dell\\anaconda3\\lib\\site-packages (from pyOpenSSL>=0.14; extra == \"secure\"->urllib3[secure]~=1.26->selenium) (1.15.0)\n",
      "Requirement already satisfied: pycparser in c:\\users\\dell\\anaconda3\\lib\\site-packages (from cffi>=1.14; os_name == \"nt\" and implementation_name != \"pypy\"->trio~=0.17->selenium) (2.20)\n",
      "Installing collected packages: async-generator, outcome, sniffio, trio, h11, wsproto, trio-websocket, urllib3, selenium\n",
      "  Attempting uninstall: urllib3\n",
      "    Found existing installation: urllib3 1.25.9\n",
      "    Uninstalling urllib3-1.25.9:\n",
      "      Successfully uninstalled urllib3-1.25.9\n",
      "Successfully installed async-generator-1.10 h11-0.12.0 outcome-1.1.0 selenium-4.0.0 sniffio-1.2.0 trio-0.19.0 trio-websocket-0.9.2 urllib3-1.26.7 wsproto-1.0.0\n",
      "Note: you may need to restart the kernel to use updated packages.\n"
     ]
    },
    {
     "name": "stderr",
     "output_type": "stream",
     "text": [
      "ERROR: requests 2.24.0 has requirement urllib3!=1.25.0,!=1.25.1,<1.26,>=1.21.1, but you'll have urllib3 1.26.7 which is incompatible.\n"
     ]
    }
   ],
   "source": [
    "pip install selenium"
   ]
  },
  {
   "cell_type": "code",
   "execution_count": 7,
   "metadata": {},
   "outputs": [],
   "source": [
    "from time import sleep "
   ]
  },
  {
   "cell_type": "code",
   "execution_count": 3,
   "metadata": {},
   "outputs": [],
   "source": [
    "from selenium import webdriver"
   ]
  },
  {
   "cell_type": "code",
   "execution_count": 4,
   "metadata": {},
   "outputs": [
    {
     "name": "stderr",
     "output_type": "stream",
     "text": [
      "<ipython-input-4-265ba9c30aee>:1: DeprecationWarning: executable_path has been deprecated, please pass in a Service object\n",
      "  driver = webdriver.Chrome(executable_path=r\"C:\\Users\\DELL\\Downloads\\chromedriver_win32\\chromedriver.exe\")\n"
     ]
    }
   ],
   "source": [
    "driver = webdriver.Chrome(executable_path=r\"C:\\Users\\DELL\\Downloads\\chromedriver_win32\\chromedriver.exe\")"
   ]
  },
  {
   "cell_type": "code",
   "execution_count": 12,
   "metadata": {},
   "outputs": [],
   "source": [
    "driver.get(\"https://www.google.com/maps/@28.50816,77.0506752,12z\") "
   ]
  },
  {
   "cell_type": "code",
   "execution_count": 13,
   "metadata": {},
   "outputs": [],
   "source": [
    "sleep(2) "
   ]
  },
  {
   "cell_type": "markdown",
   "metadata": {},
   "source": [
    "**Searching Places**"
   ]
  },
  {
   "cell_type": "code",
   "execution_count": 14,
   "metadata": {},
   "outputs": [
    {
     "name": "stderr",
     "output_type": "stream",
     "text": [
      "<ipython-input-14-0a6448e77116>:2: DeprecationWarning: find_element_by_* commands are deprecated. Please use find_element() instead\n",
      "  Place=driver.find_element_by_class_name(\"tactile-searchbox-input\")\n",
      "<ipython-input-14-0a6448e77116>:4: DeprecationWarning: find_element_by_* commands are deprecated. Please use find_element() instead\n",
      "  Submit=driver.find_element_by_xpath(\"/html/body/div[3]/div[9]/div[3]/div[1]/div[1]/div[1]/div[2]/div[1]/button\")\n"
     ]
    }
   ],
   "source": [
    "def searchplace():\n",
    "    Place=driver.find_element_by_class_name(\"tactile-searchbox-input\")\n",
    "    Place.send_keys(\"Tiruchirappalli\")\n",
    "    Submit=driver.find_element_by_xpath(\"/html/body/div[3]/div[9]/div[3]/div[1]/div[1]/div[1]/div[2]/div[1]/button\")\n",
    "    Submit.click()\n",
    "searchplace()"
   ]
  },
  {
   "cell_type": "markdown",
   "metadata": {},
   "source": [
    "**Directions**"
   ]
  },
  {
   "cell_type": "code",
   "execution_count": 16,
   "metadata": {},
   "outputs": [
    {
     "name": "stderr",
     "output_type": "stream",
     "text": [
      "<ipython-input-16-ac2bdf8ba976>:3: DeprecationWarning: find_element_by_* commands are deprecated. Please use find_element() instead\n",
      "  directions=driver.find_element_by_xpath(\"/html/body/div[3]/div[9]/div[8]/div/div[1]/div/div/div[4]/div[1]/button/span/img\")\n"
     ]
    }
   ],
   "source": [
    "def directions():\n",
    "    sleep(10)\n",
    "    directions=driver.find_element_by_xpath(\"/html/body/div[3]/div[9]/div[8]/div/div[1]/div/div/div[4]/div[1]/button/span/img\")\n",
    "    directions.click()\n",
    "directions()"
   ]
  },
  {
   "cell_type": "markdown",
   "metadata": {},
   "source": [
    "**Find Places**"
   ]
  },
  {
   "cell_type": "code",
   "execution_count": 18,
   "metadata": {},
   "outputs": [
    {
     "name": "stderr",
     "output_type": "stream",
     "text": [
      "<ipython-input-18-6da266dedcea>:3: DeprecationWarning: find_element_by_* commands are deprecated. Please use find_element() instead\n",
      "  find=driver.find_element_by_xpath(\"/html/body/div[3]/div[9]/div[3]/div[1]/div[2]/div/div[3]/div[1]/div[1]/div[2]/div[1]/div/input\")\n",
      "<ipython-input-18-6da266dedcea>:6: DeprecationWarning: find_element_by_* commands are deprecated. Please use find_element() instead\n",
      "  search=driver.find_element_by_xpath(\"/html/body/div[3]/div[9]/div[3]/div[1]/div[2]/div/div[3]/div[1]/div[1]/div[2]/button[1]\")\n"
     ]
    }
   ],
   "source": [
    "def find():\n",
    "         sleep(6)\n",
    "         find=driver.find_element_by_xpath(\"/html/body/div[3]/div[9]/div[3]/div[1]/div[2]/div/div[3]/div[1]/div[1]/div[2]/div[1]/div/input\")\n",
    "         find.send_keys(\"Tirunelveli\")\n",
    "         sleep(2)\n",
    "         search=driver.find_element_by_xpath(\"/html/body/div[3]/div[9]/div[3]/div[1]/div[2]/div/div[3]/div[1]/div[1]/div[2]/button[1]\")\n",
    "         search.click()\n",
    "find()"
   ]
  },
  {
   "cell_type": "markdown",
   "metadata": {},
   "source": [
    "**Distance between places** "
   ]
  },
  {
   "cell_type": "code",
   "execution_count": 21,
   "metadata": {},
   "outputs": [
    {
     "name": "stderr",
     "output_type": "stream",
     "text": [
      "<ipython-input-21-a635623e2406>:3: DeprecationWarning: find_element_by_* commands are deprecated. Please use find_element() instead\n",
      "  Totalkilometers=driver.find_element_by_xpath(\"/html/body/div[3]/div[9]/div[8]/div/div[1]/div/div/div[5]/div[1]/div/div[1]/div[1]/div[2]/div\")\n"
     ]
    },
    {
     "name": "stdout",
     "output_type": "stream",
     "text": [
      "Total Kilometers: 294 km\n"
     ]
    },
    {
     "name": "stderr",
     "output_type": "stream",
     "text": [
      "<ipython-input-21-a635623e2406>:6: DeprecationWarning: find_element_by_* commands are deprecated. Please use find_element() instead\n",
      "  Bus=driver.find_element_by_xpath(\"/html/body/div[3]/div[9]/div[8]/div/div[1]/div/div/div[5]/div[1]/div/div[1]/div[1]/div[1]/span[1]\")\n"
     ]
    },
    {
     "name": "stdout",
     "output_type": "stream",
     "text": [
      "Bus Travel: 4 hr 54 min\n"
     ]
    },
    {
     "name": "stderr",
     "output_type": "stream",
     "text": [
      "<ipython-input-21-a635623e2406>:9: DeprecationWarning: find_element_by_* commands are deprecated. Please use find_element() instead\n",
      "  Train=driver.find_element_by_xpath(\"/html/body/div[3]/div[9]/div[8]/div/div[1]/div/div/div[5]/div[3]/div/div[2]/div[1]/div\")\n"
     ]
    },
    {
     "name": "stdout",
     "output_type": "stream",
     "text": [
      "Train Travel: 5 hr 32 min\n"
     ]
    }
   ],
   "source": [
    "def kilometers():\n",
    "               sleep(5)\n",
    "               Totalkilometers=driver.find_element_by_xpath(\"/html/body/div[3]/div[9]/div[8]/div/div[1]/div/div/div[5]/div[1]/div/div[1]/div[1]/div[2]/div\")\n",
    "               print(\"Total Kilometers:\",Totalkilometers.text)\n",
    "               sleep(5)\n",
    "               Bus=driver.find_element_by_xpath(\"/html/body/div[3]/div[9]/div[8]/div/div[1]/div/div/div[5]/div[1]/div/div[1]/div[1]/div[1]/span[1]\")\n",
    "               print(\"Bus Travel:\",Bus.text)\n",
    "               sleep(7)\n",
    "               Train=driver.find_element_by_xpath(\"/html/body/div[3]/div[9]/div[8]/div/div[1]/div/div/div[5]/div[3]/div/div[2]/div[1]/div\")\n",
    "               print(\"Train Travel:\",Train.text)\n",
    "               sleep(7)\n",
    "\n",
    "kilometers()"
   ]
  },
  {
   "cell_type": "markdown",
   "metadata": {},
   "source": [
    "**TRAINS AVAILABLE**"
   ]
  },
  {
   "cell_type": "code",
   "execution_count": 22,
   "metadata": {},
   "outputs": [
    {
     "name": "stdout",
     "output_type": "stream",
     "text": [
      "*COVID-19 Special Trains*\n",
      "Train No:1 Chennai Egmore Special\n",
      "Train No:2 Thirukkural SF Special\n"
     ]
    },
    {
     "name": "stderr",
     "output_type": "stream",
     "text": [
      "<ipython-input-22-6a9ce265fef2>:4: DeprecationWarning: find_element_by_* commands are deprecated. Please use find_element() instead\n",
      "  trainone=driver.find_element_by_xpath(\"/html/body/div[3]/div[9]/div[8]/div/div[1]/div/div/div[5]/div[3]/div/div[2]/div[2]/span/span[2]/span[1]/span[1]/span\")\n",
      "<ipython-input-22-6a9ce265fef2>:8: DeprecationWarning: find_element_by_* commands are deprecated. Please use find_element() instead\n",
      "  trainsec=driver.find_element_by_xpath(\"/html/body/div[3]/div[9]/div[8]/div/div[1]/div/div/div[5]/div[3]/div/div[2]/div[2]/span/span[4]/span[1]/span[1]/span\")\n"
     ]
    }
   ],
   "source": [
    "def available():\n",
    "    print(\"*COVID-19 Special Trains*\")\n",
    "    sleep(7)\n",
    "    trainone=driver.find_element_by_xpath(\"/html/body/div[3]/div[9]/div[8]/div/div[1]/div/div/div[5]/div[3]/div/div[2]/div[2]/span/span[2]/span[1]/span[1]/span\")\n",
    "    print(\"Train No:1\",trainone.text)\n",
    "               \n",
    "def availableone():           \n",
    "    trainsec=driver.find_element_by_xpath(\"/html/body/div[3]/div[9]/div[8]/div/div[1]/div/div/div[5]/div[3]/div/div[2]/div[2]/span/span[4]/span[1]/span[1]/span\") \n",
    "    print(\"Train No:2\",trainsec.text)\n",
    "available()\n",
    "availableone()\n",
    "          "
   ]
  },
  {
   "cell_type": "code",
   "execution_count": null,
   "metadata": {},
   "outputs": [],
   "source": []
  }
 ],
 "metadata": {
  "kernelspec": {
   "display_name": "Python 3",
   "language": "python",
   "name": "python3"
  },
  "language_info": {
   "codemirror_mode": {
    "name": "ipython",
    "version": 3
   },
   "file_extension": ".py",
   "mimetype": "text/x-python",
   "name": "python",
   "nbconvert_exporter": "python",
   "pygments_lexer": "ipython3",
   "version": "3.8.3"
  }
 },
 "nbformat": 4,
 "nbformat_minor": 4
}
